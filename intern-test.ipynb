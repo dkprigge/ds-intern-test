{
 "cells": [
  {
   "cell_type": "markdown",
   "metadata": {},
   "source": [
    "# Demand Media Data Science Intern test.\n",
    "To begin please clone this repository and run the notebook.\n",
    "Checkout [this resource](https://try.github.io/levels/1/challenges/1) for help with git. And similarly for a rundown on [Jupyter.](https://jupyter-notebook-beginner-guide.readthedocs.io/en/latest/)"
   ]
  },
  {
   "cell_type": "markdown",
   "metadata": {},
   "source": [
    "## Data Tools"
   ]
  },
  {
   "cell_type": "markdown",
   "metadata": {},
   "source": [
    "#### Question 1: Convert CSV to JSON\n",
    "List some of the tools you would use to convert a csv file to json. Please list all the different approaches you can think of, for solving a data transformation problem like this."
   ]
  },
  {
   "cell_type": "markdown",
   "metadata": {},
   "source": []
  },
  {
   "cell_type": "markdown",
   "metadata": {},
   "source": [
    "## SQL\n",
    "Using the database schema below, answer the following questions.\n",
    "\n",
    "\n",
    "|movie   |actor |casting|\n",
    "|--------|------|-------|\n",
    "|id      |id    |movieid|\n",
    "|title   |name  |actorid|\n",
    "|yr      |      |ord    |\n",
    "|director|      |       | \n",
    "|budget  |      |       |\n",
    "|gross   |      |       |\n",
    "\n",
    "\n",
    "\n",
    "\n"
   ]
  },
  {
   "cell_type": "markdown",
   "metadata": {},
   "source": [
    "#### Question 2:\n",
    "List films made in the year  1972 [Show id, title]"
   ]
  },
  {
   "cell_type": "markdown",
   "metadata": {},
   "source": []
  },
  {
   "cell_type": "markdown",
   "metadata": {},
   "source": [
    "#### Question 3:\n",
    "List all of the Fast and Furious movies, include the id, title and yr(all of these movies include the words \"Fast and Furious\" in the title). Order results by year."
   ]
  },
  {
   "cell_type": "markdown",
   "metadata": {},
   "source": []
  },
  {
   "cell_type": "markdown",
   "metadata": {},
   "source": [
    "#### Question 4:\n",
    "Find the actors in the movie \"Gone with the Wind\""
   ]
  },
  {
   "cell_type": "markdown",
   "metadata": {},
   "source": []
  },
  {
   "cell_type": "markdown",
   "metadata": {},
   "source": [
    "#### Question 5:\n",
    "List the films together with the leading star for all 1962 films."
   ]
  },
  {
   "cell_type": "markdown",
   "metadata": {},
   "source": []
  },
  {
   "cell_type": "markdown",
   "metadata": {},
   "source": [
    "## Data Science Questions"
   ]
  },
  {
   "cell_type": "markdown",
   "metadata": {},
   "source": [
    "#### Question 6:\n",
    "Explain the curse of Dimensionality to a child?"
   ]
  },
  {
   "cell_type": "markdown",
   "metadata": {},
   "source": []
  },
  {
   "cell_type": "markdown",
   "metadata": {},
   "source": [
    "#### Question 7:\n",
    "Why is mean square error a bad measure of model performance? What would you suggest instead?"
   ]
  },
  {
   "cell_type": "markdown",
   "metadata": {},
   "source": []
  },
  {
   "cell_type": "markdown",
   "metadata": {},
   "source": [
    "#### Question 8:\n",
    "Do you think 50 small decision trees are better than a large one? Why?"
   ]
  },
  {
   "cell_type": "markdown",
   "metadata": {},
   "source": []
  },
  {
   "cell_type": "markdown",
   "metadata": {},
   "source": [
    "#### Question 9:\n",
    "How would you explain an A/B test to an engineer with no statistics background?"
   ]
  },
  {
   "cell_type": "markdown",
   "metadata": {},
   "source": []
  },
  {
   "cell_type": "markdown",
   "metadata": {},
   "source": [
    "## Python"
   ]
  },
  {
   "cell_type": "markdown",
   "metadata": {},
   "source": [
    "#### Question 10:\n",
    "Find the 'n' largest elements of the list.\n",
    "```python\n",
    "a = [10,15,3,4,67,43,12]\n",
    "```"
   ]
  },
  {
   "cell_type": "code",
   "execution_count": null,
   "metadata": {
    "collapsed": true
   },
   "outputs": [],
   "source": []
  },
  {
   "cell_type": "markdown",
   "metadata": {},
   "source": [
    "#### Question 11:\n",
    "Find the 'n' most frequent values in the list.\n",
    "```python\n",
    "    b = [1,2,6,4,6,4,2,6,2,4,3,6,5,2]\n",
    "```"
   ]
  },
  {
   "cell_type": "code",
   "execution_count": null,
   "metadata": {
    "collapsed": true
   },
   "outputs": [],
   "source": []
  },
  {
   "cell_type": "markdown",
   "metadata": {},
   "source": [
    "#### Question 12:\n",
    "Explain the use of the yield statement."
   ]
  },
  {
   "cell_type": "markdown",
   "metadata": {},
   "source": []
  },
  {
   "cell_type": "markdown",
   "metadata": {},
   "source": [
    "#### Question 13:\n",
    "What will be the output of the code below? Please explain your answer.\n",
    "```python\n",
    "def multipliers():\n",
    "  return [lambda x : i * x for i in range(4)]\n",
    "    \n",
    "print [m(2) for m in multipliers()]\n",
    "```\n",
    "How would you modify the definition of `multipliers` to produce the presumably desired behavior?"
   ]
  },
  {
   "cell_type": "code",
   "execution_count": null,
   "metadata": {
    "collapsed": true
   },
   "outputs": [],
   "source": []
  }
 ],
 "metadata": {
  "kernelspec": {
   "display_name": "Python 2",
   "language": "python",
   "name": "python2"
  },
  "language_info": {
   "codemirror_mode": {
    "name": "ipython",
    "version": 2
   },
   "file_extension": ".py",
   "mimetype": "text/x-python",
   "name": "python",
   "nbconvert_exporter": "python",
   "pygments_lexer": "ipython2",
   "version": "2.7.10"
  }
 },
 "nbformat": 4,
 "nbformat_minor": 0
}
